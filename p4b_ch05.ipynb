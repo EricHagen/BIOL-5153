{
 "cells": [
  {
   "cell_type": "code",
   "execution_count": 6,
   "metadata": {},
   "outputs": [
    {
     "name": "stdout",
     "output_type": "stream",
     "text": [
      "0.5\n",
      "0.5294117647058824\n",
      "0.5\n",
      "0.5\n",
      "0.5\n",
      "0.54\n"
     ]
    }
   ],
   "source": [
    "#IN-CHAPTER EXERCISES: WRITING OUR OWN FUNCTIONS\n",
    "\n",
    "#This is how you define a function to calculate AT content in a DNA sequence:\n",
    "def get_at_content(dna):\n",
    "    length = len(dna)\n",
    "    a_count = dna.upper().count('A')\n",
    "    t_count = dna.upper().count('T')\n",
    "    at_content = (a_count + t_count) / length\n",
    "    return at_content\n",
    "print(get_at_content('ACGTAGTCGTAGTCGATGCTAGTCGTAGCT'))\n",
    "print(get_at_content('atcgatgctgatcgtagctgatgtgatcgtcgat'))\n",
    "#Just like in loops, any variables defined within the function only exist there, not outside it in the rest of the code\n",
    "#We can also include other inputs, such as if we want specific significant figures:\n",
    "def get_at_content(dna, sig_figs = 2):\n",
    "    length = len(dna)\n",
    "    a_count = dna.upper().count('A')\n",
    "    t_count = dna.upper().count('T')\n",
    "    at_content = (a_count + t_count) / length\n",
    "    return round(at_content, sig_figs)\n",
    "print(get_at_content('ACGTAGTCGTAGTCGATGCTAGTCGTAGCT'))\n",
    "print(get_at_content('ACGTAGTCGTAGTCGATGCTAGTCGTAGCT', 5))\n",
    "#Printing also can work like this, like in R:\n",
    "print(get_at_content(dna = 'ACGTAGTCGTAGTCGATGCTAGTCGTAGCT', sig_figs = 3))\n",
    "#Since we made sig_figs equal 2 in the function definition, this makes a DEFAULT of 2 sig figs,\n",
    "#which is what the function will round to if we don't define other sig figs, as I do in the\n",
    "#second print statement\n",
    "#Functions don't always have to return a value, they can just print something. But that makes\n",
    "#them less versatile:\n",
    "def print_at_content(dna):\n",
    "    length = len(dna)\n",
    "    a_count = dna.upper().count('A')\n",
    "    t_count = dna.upper().count('T')\n",
    "    at_content = (a_count + t_count) / length\n",
    "    print(str(round(at_content, 2)))\n",
    "print_at_content('ATGCTAGTCGTAGTCGATGTCGAT')\n",
    "#This is how you test a function:\n",
    "assert get_at_content('ACGTAGTCGTAGTCGATGCTAGTCGTAGCT', 5) == 0.5\n",
    "#It won't produce output if correct, but it will give you an error message if incorrect:\n",
    "#assert get_at_content('ACGTAGTCGTAGTCGATGCTAGTCGTAGCT', 5) == 0.2\n"
   ]
  },
  {
   "cell_type": "code",
   "execution_count": 7,
   "metadata": {
    "collapsed": true
   },
   "outputs": [],
   "source": [
    "#END-OF-CHAPTER EXERCISES"
   ]
  },
  {
   "cell_type": "code",
   "execution_count": 8,
   "metadata": {},
   "outputs": [
    {
     "name": "stdout",
     "output_type": "stream",
     "text": [
      "5.0\n"
     ]
    }
   ],
   "source": [
    "#Percentage of amino acid residues, part one\n",
    "def my_function(protein_sequence, amino_acid_residue):\n",
    "    length = len(protein_sequence)\n",
    "    protein_sequence = protein_sequence.upper()\n",
    "    amino_acid_residue = amino_acid_residue.upper()\n",
    "    letter_count = protein_sequence.count(amino_acid_residue)\n",
    "    percent_amino = (letter_count / length) * 100\n",
    "    return percent_amino\n",
    "print(my_function(\"MSRSLLLRFLLFLLLLPPLP\", \"M\"))\n",
    "assert my_function(\"MSRSLLLRFLLFLLLLPPLP\", \"M\") == 5\n",
    "assert my_function(\"MSRSLLLRFLLFLLLLPPLP\", \"r\") == 10\n",
    "assert my_function(\"MSRSLLLRFLLFLLLLPPLP\", \"L\") == 50\n",
    "assert my_function(\"MSRSLLLRFLLFLLLLPPLP\", \"Y\") == 0"
   ]
  },
  {
   "cell_type": "code",
   "execution_count": 9,
   "metadata": {},
   "outputs": [
    {
     "name": "stdout",
     "output_type": "stream",
     "text": [
      "55.0\n"
     ]
    }
   ],
   "source": [
    "#Percentage of amino acid residues, part two\n",
    "def my_function2(protein_sequence, amino_acid_residue_list = ['A', 'I', 'L', 'M', 'F', 'W', 'Y', 'V']):\n",
    "    length = len(protein_sequence)\n",
    "    protein_sequence = protein_sequence.upper()\n",
    "    letters_count_list = []\n",
    "    for letter in amino_acid_residue_list:\n",
    "        letter = letter.upper()\n",
    "        letters_count = protein_sequence.count(letter)\n",
    "        letters_count_list.append(letters_count)\n",
    "    sum_amino = sum(letters_count_list)\n",
    "    percent_amino = (sum_amino / length) * 100\n",
    "    return round(percent_amino, 0)\n",
    "print(my_function2(\"MSRSLLLRFLLFLLLLPPLP\", ['M', 'L']))\n",
    "assert my_function2(\"MSRSLLLRFLLFLLLLPPLP\", [\"M\"]) == 5\n",
    "assert my_function2(\"MSRSLLLRFLLFLLLLPPLP\", ['M', 'L']) == 55\n",
    "assert my_function2(\"MSRSLLLRFLLFLLLLPPLP\", ['F', 'S', 'L']) == 70\n",
    "assert my_function2(\"MSRSLLLRFLLFLLLLPPLP\") == 65"
   ]
  }
 ],
 "metadata": {
  "kernelspec": {
   "display_name": "Python 3",
   "language": "python",
   "name": "python3"
  },
  "language_info": {
   "codemirror_mode": {
    "name": "ipython",
    "version": 3
   },
   "file_extension": ".py",
   "mimetype": "text/x-python",
   "name": "python",
   "nbconvert_exporter": "python",
   "pygments_lexer": "ipython3",
   "version": "3.6.1"
  }
 },
 "nbformat": 4,
 "nbformat_minor": 2
}
