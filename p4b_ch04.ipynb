{
 "cells": [
  {
   "cell_type": "code",
   "execution_count": 3,
   "metadata": {},
   "outputs": [
    {
     "name": "stdout",
     "output_type": "stream",
     "text": [
      "Homo sapiens\n",
      "1\n",
      "Gorilla gorilla\n",
      "['C', 'D', 'E']\n",
      "9\n",
      "['C', 'D', 'E', 'Homo sapiens', 'Pan troglodytes', 'Gorilla gorilla']\n",
      "['C', 'D', 'E', 'Gorilla gorilla', 'Homo sapiens', 'Pan troglodytes']\n",
      "['Pan troglodytes', 'Homo sapiens', 'Gorilla gorilla', 'E', 'D', 'C']\n",
      "Pan troglodytesThis is element number1\n",
      "Homo sapiensThis is element number2\n",
      "Gorilla gorillaThis is element number3\n",
      "EThis is element number4\n",
      "DThis is element number5\n",
      "CThis is element number6\n",
      "Homo sapiens is an ape. Its name starts with H\n",
      "Its name has 12 letters\n",
      "Pan troglodytes is an ape. Its name starts with P\n",
      "Its name has 15 letters\n",
      "Gorilla gorilla is an ape. Its name starts with G\n",
      "Its name has 15 letters\n",
      "1\n",
      "0\n",
      "0\n",
      "1\n",
      "['melanogaster', 'simulans', 'yakuba', 'ananassae']\n",
      "0\n",
      "1\n",
      "2\n",
      "3\n",
      "4\n",
      "5\n"
     ]
    }
   ],
   "source": [
    "#In-chapter exercises\n",
    "\n",
    "#Creating lists:\n",
    "#An empty list:\n",
    "emptylist = []\n",
    "#List with contents:\n",
    "apes = [\"Homo sapiens\", \"Pan troglodytes\", \"Gorilla gorilla\"]\n",
    "conserved_sites = [24, 56, 132]\n",
    "#You can print specific elements of lists and assign them to variables:\n",
    "print(apes[0])\n",
    "first_site = conserved_sites[2]\n",
    "#We can find the index of an element in a list:\n",
    "print(apes.index(\"Pan troglodytes\"))\n",
    "#In a loooong list, we can easily get the last element like so:\n",
    "print(apes[-1])\n",
    "#We can take subsets of lists\n",
    "long_list = [\"A\", \"B\", \"C\", \"D\", \"E\", \"F\", \"G\", \"H\"]\n",
    "short_list = long_list[2:5]\n",
    "print(str(short_list))\n",
    "#We can append to lists:\n",
    "long_list.append(\"I\")\n",
    "#We can also count the number of elements in a list just like the number of characters in a string:\n",
    "print(len(long_list))\n",
    "#It's very easy to concatenate two lists:\n",
    "two_lists = short_list + apes\n",
    "print(str(two_lists))\n",
    "#We can use .sort() to sort lists alphabetically:\n",
    "two_lists.sort()\n",
    "print(str(two_lists))\n",
    "#We can use .reverse() to reverse the order of the elements in a list:\n",
    "two_lists.reverse()\n",
    "print(str(two_lists))\n",
    "\n",
    "#Loops\n",
    "#Here is an example of a for loop:\n",
    "number = 1\n",
    "for element in two_lists:\n",
    "    print(element + \"This is element number\" + str(number))\n",
    "    number = number + 1\n",
    "#Here's another example that's a bit more complex:\n",
    "for ape in apes:\n",
    "    name_length = len(ape)\n",
    "    first_letter = ape[0]\n",
    "    print(ape + \" is an ape. Its name starts with \" + first_letter)\n",
    "    print(\"Its name has \" + str(name_length) + \" letters\")\n",
    "#You can also make a for loop that iterates over lines of a file:\n",
    "file = open(\"data.txt\")\n",
    "infile = file.readlines()\n",
    "for line in infile:\n",
    "    count = line.count('a')\n",
    "    print(str(count))\n",
    "#This is how you can split a string to make a list:\n",
    "names = \"melanogaster,simulans,yakuba,ananassae\"\n",
    "species = names.split(\",\")\n",
    "print(str(species))\n",
    "#We can also loop over a range:\n",
    "for number in range(6):\n",
    "    print(number) #Notice that it goes from 0 to 5, not 1 to 6, as to be expected in the hellish landscape that is Python."
   ]
  },
  {
   "cell_type": "code",
   "execution_count": 5,
   "metadata": {},
   "outputs": [
    {
     "name": "stdout",
     "output_type": "stream",
     "text": [
      "42\n",
      "37\n",
      "48\n",
      "33\n",
      "47\n",
      "Output file content: \n",
      "TCGATCGATCGATCGATCGATCGATCGATCGATCGATCGATC\n",
      "ACTGATCGATCGATCGATCGATCGATGCTATCGTCGT\n",
      "ATCGATCACGATCTATCGTACGTATGCATATCGATATCGATCGTAGTC\n",
      "ACTATCGATGATCTAGCTACGATCGTAGCTGTA\n",
      "ACTAGCTAGTCTCGATGCATGATCAGCTTAGCTGATGATGCTATGCA\n",
      "\n"
     ]
    }
   ],
   "source": [
    "#End of chapter exercises\n",
    "\n",
    "#Processing DNA in a file\n",
    "input_file = open(\"input.txt\")\n",
    "output_file = open(\"output.txt\", \"w\")\n",
    "for line in input_file:\n",
    "    output_file.write(line[14:1000])\n",
    "    print(str(len(line[15:1000])))\n",
    "input_file.close()\n",
    "output_file.close()\n",
    "output_file = open(\"output.txt\", \"r\")\n",
    "output_file_read = output_file.read()\n",
    "print(\"Output file content: \\n\" + str(output_file_read))\n",
    "output_file.close()"
   ]
  },
  {
   "cell_type": "code",
   "execution_count": 6,
   "metadata": {},
   "outputs": [
    {
     "name": "stdout",
     "output_type": "stream",
     "text": [
      "concatenated_exons contents: CGTACCGTCGACGATGCTACGATCGTCGATCGTAGTCGATCATCGATCGATCGCGATCGATCGATATCGATCGATATCATCGATGCATCGATCATCGATCGATCGATCGATCGACGATCGATCGATCGTAGCTAGCTAGCTAGATCGATCATCATCGTAGCTAGCTCGACTAGCTACGTACGATCGATGCATCGATCGTACGATCGATCGATCGATCGATCGATCGATCGATCGATCGATCGTAGCTAGCTACGATCG\n"
     ]
    }
   ],
   "source": [
    "#Multiple exons from genomic DNA\n",
    "genomic_dna = open(\"genome_dna.txt\").read()\n",
    "exons = open(\"exons.txt\")\n",
    "concatenated_exons_string = \"\"\n",
    "for line in exons:\n",
    "    startsandstops = line.split(\",\")\n",
    "    start = int(startsandstops[0])\n",
    "    stop = int(startsandstops[1])\n",
    "    line_output = genomic_dna[start:stop]\n",
    "    concatenated_exons_string = concatenated_exons_string + line_output\n",
    "concatenated_exons = open(\"concatenated_exons.txt\", \"w\")\n",
    "concatenated_exons.write(concatenated_exons_string)\n",
    "exons.close()\n",
    "concatenated_exons.close()\n",
    "concatenated_exons_read = open(\"concatenated_exons.txt\").read()\n",
    "print(\"concatenated_exons contents: \" + str(concatenated_exons_read))"
   ]
  }
 ],
 "metadata": {
  "kernelspec": {
   "display_name": "Python 3",
   "language": "python",
   "name": "python3"
  },
  "language_info": {
   "codemirror_mode": {
    "name": "ipython",
    "version": 3
   },
   "file_extension": ".py",
   "mimetype": "text/x-python",
   "name": "python",
   "nbconvert_exporter": "python",
   "pygments_lexer": "ipython3",
   "version": "3.6.1"
  }
 },
 "nbformat": 4,
 "nbformat_minor": 2
}
