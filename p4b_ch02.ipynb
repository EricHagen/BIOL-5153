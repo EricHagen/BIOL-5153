{
 "cells": [
  {
   "cell_type": "code",
   "execution_count": 2,
   "metadata": {},
   "outputs": [
    {
     "name": "stdout",
     "output_type": "stream",
     "text": [
      "Hello world\n",
      "Hello world v a p o r w a v e i am in hell\n",
      "Hello world v a p o r w a v e i am in hell\n",
      "Hello\n",
      "world\n",
      "ATCGACGAGCAGCAGCAGCA\n",
      "ATCGACGAGCAGCAGCAGCA\n",
      "31\n",
      "atcgacgagcagcagcagcaatgtgtgatgt\n",
      "HELLO WORLD\n",
      "ylspadktny\n",
      "ymtpadktnv\n",
      "pa\n",
      "number of valines: 2\n",
      "1\n",
      "3\n"
     ]
    }
   ],
   "source": [
    "#In-chapter examples\n",
    "\n",
    "#print a statement:\n",
    "print(\"Hello world\") #You need quotes for a typed string, no quotes for a variable that's a string\n",
    "#Print statements can take multiple arguments:\n",
    "print(\"Hello world\", \"v a p o r w a v e\", \"i am in hell\")\n",
    "print(\"Hello world \" + \"v a p o r w a v e\" + \" i am in hell\")\n",
    "#Use \\n to print a new line:\n",
    "print(\"Hello\\nworld\")\n",
    "#This is how you assign strings to variables:\n",
    "my_dna = \"ATCGACGAGCAGCAGCAGCA\" #This variable value can be reassigned at any time\n",
    "print(my_dna)\n",
    "#This is how you concatenate:\n",
    "new_dna = \"ATGCTGATC\" + \"ATGCTGTGATGTGTC\"\n",
    "#OR:\n",
    "new_dna = my_dna + \"ATGTGTGATGT\"\n",
    "print(my_dna)\n",
    "#You can only print strings. So if you want to print a length, which is an integer,\n",
    "#then you need to stringify it:\n",
    "length = len(new_dna) #Need to assign this to a variable & print it to get length, because\n",
    "#this function doesn't produce any output on its own\n",
    "print(str(length))\n",
    "#This is how you change case (these only work with strings, not numbers, obviously):\n",
    "helloworld = \"hello world\"\n",
    "print(new_dna.lower()) #Lowercase\n",
    "print(helloworld.upper()) #Uppercase\n",
    "#This is how you replace characters in a string:\n",
    "protein = \"vlspadktnv\"\n",
    "print(protein.replace(\"v\", \"y\"))\n",
    "print(protein.replace(\"vls\", \"ymt\"))\n",
    "#This is how we get a specific part of a string:\n",
    "print(protein[3:5]) #Characters 4 to 6, because Python considers character 1 to be character 0\n",
    "#This is how you count substrings within strings:\n",
    "print(\"number of valines: \" + str(protein.count('v'))) #Remember we need to stringify a count to print it\n",
    "print(str(protein.count('vls')))\n",
    "#This is how you find the location, or index, of a character within a string:\n",
    "print(str(protein.find('p')))\n",
    "#Remember that Python starts counting at zero like a weirdo"
   ]
  },
  {
   "cell_type": "code",
   "execution_count": 3,
   "metadata": {},
   "outputs": [
    {
     "name": "stdout",
     "output_type": "stream",
     "text": [
      "Length of full sequence: 54\n",
      "A content: 16\n",
      "T content: 21\n"
     ]
    }
   ],
   "source": [
    "#End-of-chapter exercises\n",
    "#These are all done on first iteration because I solved code problems in Sublime\n",
    "\n",
    "#Calculating AT content\n",
    "dna_sequence = \"ACTGATCGATTACGTATAGTATTTGCTATCATACATATATATCGATGCGTTCAT\"\n",
    "A_content = dna_sequence.count('A')\n",
    "T_content = dna_sequence.count('T')\n",
    "print(\"Length of full sequence: \" + str(len(dna_sequence)))\n",
    "print(\"A content: \" + str(A_content))\n",
    "print(\"T content: \" + str(T_content))"
   ]
  },
  {
   "cell_type": "code",
   "execution_count": 4,
   "metadata": {},
   "outputs": [
    {
     "name": "stdout",
     "output_type": "stream",
     "text": [
      "ACTGATCGATTACGTATAGTATTTGCTATCATACATATATATCGATGCGTTCAT\n",
      "TGACTAGCTAATGCATATCATAAACGATAGTATGTATATATAGCTACGCAAGTA\n"
     ]
    }
   ],
   "source": [
    "#Complementing DNA\n",
    "dna_sequence2 = \"ACTGATCGATTACGTATAGTATTTGCTATCATACATATATATCGATGCGTTCAT\"\n",
    "print(dna_sequence2)\n",
    "dna_sequence2_complement = dna_sequence2.replace(\"A\", \"t\").replace(\"T\", \"a\").replace(\"C\", \"g\").replace(\"G\", \"c\")\n",
    "print(dna_sequence2_complement.upper())"
   ]
  },
  {
   "cell_type": "code",
   "execution_count": 5,
   "metadata": {},
   "outputs": [
    {
     "name": "stdout",
     "output_type": "stream",
     "text": [
      "21\n",
      "55\n",
      "Length of First Half: 22\n",
      "Length of Second Half: 33\n"
     ]
    }
   ],
   "source": [
    "#Restriction fragment lengths\n",
    "sequence = \"ACTGATCGATTACGTATAGTAGAATTCTATCATACATATATATCGATGCGTTCAT\"\n",
    "print(str(sequence.find('GAATTC'))) #Find the restriction site\n",
    "print(len(sequence)) #Find the length of the sequence so we know where to end second half of sequence\n",
    "first_half = sequence[0:22] #Split at 22\n",
    "second_half = sequence[22:55]\n",
    "print(\"Length of First Half: \" + str(len(first_half)))\n",
    "print(\"Length of Second Half: \" + str(len(second_half)))"
   ]
  },
  {
   "cell_type": "code",
   "execution_count": 6,
   "metadata": {},
   "outputs": [
    {
     "name": "stdout",
     "output_type": "stream",
     "text": [
      "123\n",
      "Coding regions: ATCGATCGATCGATCGACTGACTAGTCATAGCTATGCATGTAGCTACTCGATCGATCGATCGATCATCGATCGATATCGATGCATCGACTACTAT\n"
     ]
    }
   ],
   "source": [
    "#Splicing out introns, part one\n",
    "splicing_dna = \"ATCGATCGATCGATCGACTGACTAGTCATAGCTATGCATGTAGCTACTCGATCGATCGATCGATCGATCGATCGATCGATCGATCATGCTATCATCGATCGATATCGATGCATCGACTACTAT\"\n",
    "print(len(splicing_dna)) #So we can know where the sequence ends\n",
    "first_exon = splicing_dna[0:62]\n",
    "intron = splicing_dna[62:90]\n",
    "second_exon = splicing_dna[90:123]\n",
    "print(\"Coding regions: \" + first_exon + second_exon)"
   ]
  },
  {
   "cell_type": "code",
   "execution_count": 7,
   "metadata": {},
   "outputs": [
    {
     "name": "stdout",
     "output_type": "stream",
     "text": [
      "Percent coding: 0.7723577235772358\n"
     ]
    }
   ],
   "source": [
    "#Splicing out introns, part two\n",
    "coding_regions = first_exon + second_exon\n",
    "percent_coding = len(coding_regions)/len(splicing_dna)\n",
    "print(\"Percent coding: \" + str(percent_coding))"
   ]
  },
  {
   "cell_type": "code",
   "execution_count": 8,
   "metadata": {},
   "outputs": [
    {
     "name": "stdout",
     "output_type": "stream",
     "text": [
      "ATCGATCGATCGATCGACTGACTAGTCATAGCTATGCATGTAGCTACTCGATCGATCGATCGATCGATCGATCGATCGATCGATCATGCTATCATCGATCGATATCGATGCATCGACTACTAT\n",
      "ATCGATCGATCGATCGACTGACTAGTCATAGCTATGCATGTAGCTACTCGATCGATCGATCGatcgatcgatcgatcgatcgatcatgctATCATCGATCGATATCGATGCATCGACTACTAT\n"
     ]
    }
   ],
   "source": [
    "#Splicing out introns, part three\n",
    "print(splicing_dna)\n",
    "print(first_exon + intron.lower() + second_exon)"
   ]
  },
  {
   "cell_type": "code",
   "execution_count": null,
   "metadata": {
    "collapsed": true
   },
   "outputs": [],
   "source": []
  }
 ],
 "metadata": {
  "kernelspec": {
   "display_name": "Python 3",
   "language": "python",
   "name": "python3"
  },
  "language_info": {
   "codemirror_mode": {
    "name": "ipython",
    "version": 3
   },
   "file_extension": ".py",
   "mimetype": "text/x-python",
   "name": "python",
   "nbconvert_exporter": "python",
   "pygments_lexer": "ipython3",
   "version": "3.6.1"
  }
 },
 "nbformat": 4,
 "nbformat_minor": 2
}
