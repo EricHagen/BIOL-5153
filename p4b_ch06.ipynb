{
 "cells": [
  {
   "cell_type": "code",
   "execution_count": 9,
   "metadata": {},
   "outputs": [
    {
     "name": "stdout",
     "output_type": "stream",
     "text": [
      "False\n",
      "False\n",
      "True\n",
      "False\n",
      "True\n",
      "True\n",
      "False\n",
      "True\n",
      "False\n",
      "True\n",
      "True\n",
      "gene is highly expressed\n",
      "gene is highly expressed\n",
      "0\n",
      "1\n",
      "2\n",
      "3\n",
      "4\n",
      "5\n",
      "6\n",
      "7\n",
      "8\n",
      "9\n",
      "ay93\n"
     ]
    }
   ],
   "source": [
    "#IN-CHAPTER EXERCISES: CONDITIONAL TESTS\n",
    "\n",
    "#Here is a slew of conditional statements written in a way that python will test whether they\n",
    "#are true and give you a True of False answer, similar to \"asserting\" whether a function worked\n",
    "#in chapter 5:\n",
    "print(3 == 5)\n",
    "print(3 > 5)\n",
    "print(3 <=5)\n",
    "print(len(\"ATGC\") > 5)\n",
    "print(\"GAATTC\".count(\"T\") > 1)\n",
    "print(\"ATGCTT\".startswith(\"ATG\"))\n",
    "print(\"ATGCTT\".endswith(\"TTT\"))\n",
    "print(\"ATGCTT\".isupper())\n",
    "print(\"ATGCTT\".islower())\n",
    "print(\"V\" in [\"V\", \"W\", \"L\"])\n",
    "#You can even do print \"True\" and \"False\" outside of quotes because they're so special:\n",
    "print(True)\n",
    "#This is how you write an if statement (one that includes an else statement too) in Python:\n",
    "expression_level = 125\n",
    "if expression_level > 100:\n",
    "    print(\"gene is highly expressed\")\n",
    "else:\n",
    "    print(\"gene is lowly expressed\")\n",
    "#We can do multiple else statements using elif (else, if). We can write unlimited elif statements,\n",
    "#but here's an example with just one:\n",
    "expression_level = 125\n",
    "if expression_level > 100:\n",
    "    print(\"gene is highly expressed\")\n",
    "elif expression_level > 100:\n",
    "    print(\"YEET\")\n",
    "else:\n",
    "    print(\"gene is lowly expressed\")\n",
    "#The book says that while loops are pretty useless in Python, but here's an example of one anyway:\n",
    "count = 0\n",
    "while count<10:\n",
    "    print(count)\n",
    "    count = count + 1\n",
    "#We can test for whether things meet multiple conditions:\n",
    "accs = ['ab56', 'bh84', 'hv76', 'ay93', 'ap97', 'bd72']\n",
    "for accession in accs:\n",
    "    if accession.startswith('a') and accession.endswith('3'):\n",
    "        print(accession)"
   ]
  },
  {
   "cell_type": "code",
   "execution_count": 8,
   "metadata": {
    "collapsed": true
   },
   "outputs": [],
   "source": [
    "#END-OF-CHAPTER EXERCISES"
   ]
  },
  {
   "cell_type": "code",
   "execution_count": 10,
   "metadata": {},
   "outputs": [
    {
     "name": "stdout",
     "output_type": "stream",
     "text": [
      "D. melanogaster or simulans gene:\n",
      "kdy647\n",
      "jdg766\n",
      "kdy533\n"
     ]
    }
   ],
   "source": [
    "#Several species\n",
    "data = open(\"data.csv\")\n",
    "print(\"D. melanogaster or simulans gene:\")\n",
    "for lines in data:\n",
    "    line = lines.split(\",\")\n",
    "    if line[0] == \"Drosophila melanogaster\" or line[0] == \"Drosophila simulans\":\n",
    "        print(line[2])\n",
    "data.close()"
   ]
  },
  {
   "cell_type": "code",
   "execution_count": 11,
   "metadata": {},
   "outputs": [
    {
     "name": "stdout",
     "output_type": "stream",
     "text": [
      "In between 90 and 100 bp:\n",
      "kdy647\n",
      "teg436\n"
     ]
    }
   ],
   "source": [
    "#Length range\n",
    "data = open(\"data.csv\")\n",
    "print(\"In between 90 and 100 bp:\")\n",
    "for lines in data:\n",
    "    line = lines.split(\",\")\n",
    "    if len(str(line[1])) > 90 and len(str(line[1])) < 110:\n",
    "        print(line[2])\n",
    "data.close()"
   ]
  },
  {
   "cell_type": "code",
   "execution_count": 13,
   "metadata": {},
   "outputs": [
    {
     "name": "stdout",
     "output_type": "stream",
     "text": [
      "AT content below 0.5 with expression level above 200:\n",
      "teg436\n"
     ]
    }
   ],
   "source": [
    "#AT content\n",
    "data = open(\"data.csv\")\n",
    "print(\"AT content below 0.5 with expression level above 200:\")\n",
    "for lines in data:\n",
    "    line = lines.split(\",\")\n",
    "    sequence = line[1]\n",
    "    gene_name = line[2]\n",
    "    expression_level = line[3]\n",
    "    a_content = sequence.count('a')\n",
    "    t_content = sequence.count('t')\n",
    "    at_content = (a_content + t_content) / len(sequence)\n",
    "    if at_content < 0.5 and int(expression_level) > 200:\n",
    "        print(gene_name)\n",
    "data.close()"
   ]
  },
  {
   "cell_type": "code",
   "execution_count": 14,
   "metadata": {},
   "outputs": [
    {
     "name": "stdout",
     "output_type": "stream",
     "text": [
      "Name begins with k or h & doesn't belong to D. melanogaster:\n",
      "kdy647\n",
      "kdy533\n",
      "hdt739\n",
      "hdu045\n",
      "\n",
      "\n"
     ]
    }
   ],
   "source": [
    "#Complex condition\n",
    "data = open(\"data.csv\")\n",
    "print(\"Name begins with k or h & doesn't belong to D. melanogaster:\")\n",
    "for lines in data:\n",
    "    line = lines.split(\",\")\n",
    "    species_name = line[0]\n",
    "    sequence = line[1]\n",
    "    gene_name = line[2]\n",
    "    expression_level = line[3]\n",
    "    if gene_name.startswith('k') or gene_name.startswith('h') and species_name != \"Drosophila melanogaster\":\n",
    "        print(gene_name)\n",
    "print(\"\\n\")\n",
    "data.close()"
   ]
  },
  {
   "cell_type": "code",
   "execution_count": 15,
   "metadata": {},
   "outputs": [
    {
     "name": "stdout",
     "output_type": "stream",
     "text": [
      "kdy647 <- gene with ~high~ AT content\n",
      "jdg766 <- gene with ~medium~ AT content\n",
      "kdy533 <- gene with ~medium~ AT content\n",
      "hdt739 <- gene with ~low~ AT content\n",
      "hdu045 <- gene with ~medium~ AT content\n",
      "teg436 <- gene with ~medium~ AT content\n"
     ]
    }
   ],
   "source": [
    "#High low medium\n",
    "data = open(\"data.csv\")\n",
    "def get_at_content(sequence):\n",
    "    a_content = sequence.count('a')\n",
    "    t_content = sequence.count('t')\n",
    "    at_content = (a_content + t_content) / len(sequence)\n",
    "    return at_content\n",
    "for lines in data:\n",
    "    line = lines.split(\",\")\n",
    "    species_name = line[0]\n",
    "    sequence = line[1]\n",
    "    gene_name = line[2]\n",
    "    expression_level = line[3]\n",
    "    if get_at_content(sequence) > 0.65:\n",
    "        print(gene_name + \" <- gene with ~high~ AT content\")\n",
    "    elif get_at_content(sequence) > 0.45 and get_at_content(sequence) < 0.65:\n",
    "        print(gene_name + \" <- gene with ~medium~ AT content\")\n",
    "    else:\n",
    "        print(gene_name + \" <- gene with ~low~ AT content\")\n",
    "data.close()"
   ]
  }
 ],
 "metadata": {
  "kernelspec": {
   "display_name": "Python 3",
   "language": "python",
   "name": "python3"
  },
  "language_info": {
   "codemirror_mode": {
    "name": "ipython",
    "version": 3
   },
   "file_extension": ".py",
   "mimetype": "text/x-python",
   "name": "python",
   "nbconvert_exporter": "python",
   "pygments_lexer": "ipython3",
   "version": "3.6.1"
  }
 },
 "nbformat": 4,
 "nbformat_minor": 2
}
