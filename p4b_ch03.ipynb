{
 "cells": [
  {
   "cell_type": "code",
   "execution_count": 12,
   "metadata": {},
   "outputs": [
    {
     "name": "stdout",
     "output_type": "stream",
     "text": [
      "ATCGATCGATCGATCGACTGACTAGTCATAGCTATGCATGTAGCTACTCGATCGATCGATCGATCGATCGATCGATCGATCGATCATGCTATCATCGATCGATATCGATGCATCGACTACTAT\n",
      "Hell is a real place\n"
     ]
    }
   ],
   "source": [
    "#In-chapter examples\n",
    "\n",
    "#This is how you open a file:\n",
    "my_file = open(\"genomic_dna.txt\")\n",
    "#If you're working on Jupyter, you need to upload files first. You can't read them from a\n",
    "#directory like this unless you're working locally on something like Sublime:\n",
    "        #myfile_2 = open(\"/Users/erichagen1/Desktop/University_of_Arkansas_Stuff/Spring_2019_Semester/Practical_Programming/Python_Stuff/exercises_and_examples/reading_files/exercises/genomic_dna.txt\", \"r\")\n",
    "#You can read the contents using .read() to treat it just like any other string. If you\n",
    "#try to print a file out of read mode, you will get weird information\n",
    "my_dna = my_file.read()\n",
    "#Many DNA string files have newlines in them, which can mess things up. You can fix this\n",
    "#by stripping certain characters:\n",
    "string = \"ATGCTAGTCGATGCTAGTCG\\n\"\n",
    "string.rstrip(\"\\n\") #You can add rstrip right onto the end of a .read() statement\n",
    "#You can open files for writing \"w\", reading \"r\", or appending \"a\"\n",
    "\n",
    "#This is how you write to a file (here we're appending to not lose genetic information):\n",
    "my_dna_write = open(\"genomic_dna.txt\", \"a\")\n",
    "my_dna_write.write(\"Hell is a real place\")\n",
    "#Once you're done with files, you need to close them like so:\n",
    "my_dna_write.close()\n",
    "#Print contents to make sure it wrote:\n",
    "print(my_dna)\n",
    "my_file.close()"
   ]
  },
  {
   "cell_type": "code",
   "execution_count": 13,
   "metadata": {},
   "outputs": [
    {
     "name": "stdout",
     "output_type": "stream",
     "text": [
      "Original genomic_dna file contents: ATCGATCGATCGATCGACTGACTAGTCATAGCTATGCATGTAGCTACTCGATCGATCGATCGATCGATCGATCGATCGATCGATCATGCTATCATCGATCGATATCGATGCATCGACTACTAT\n",
      "\n",
      "Coding DNA file contents: ATCGATCGATCGATCGACTGACTAGTCATAGCTATGCATGTAGCTACTCGATCGATCGATCGATCATCGATCGATATCGATGCATCGACTACTAT\n",
      "Noncoding DNA file contents: ATCGATCGATCGATCGATCGATCATGCT\n",
      "\n",
      "\n"
     ]
    }
   ],
   "source": [
    "#END-OF-CHAPTER EXERCISES\n",
    "\n",
    "#Splitting genomic DNA\n",
    "my_file = open(\"genomic_dna.txt\", \"r\")\n",
    "genomic_dna = my_file.read()\n",
    "first_exon = genomic_dna[0:62]\n",
    "intron = genomic_dna[62:90]\n",
    "second_exon = genomic_dna[90:123]\n",
    "coding_dna = open(\"coding_dna.txt\", \"w\")\n",
    "noncoding_dna = open(\"noncoding_dna.txt\", \"w\")\n",
    "coding_dna.write(first_exon + second_exon)\n",
    "noncoding_dna.write(intron)\n",
    "coding_dna.close()\n",
    "noncoding_dna.close()\n",
    "coding_dna = open(\"coding_dna.txt\", \"r\")\n",
    "noncoding_dna = open(\"noncoding_dna.txt\", \"r\")\n",
    "coding_dna_read = coding_dna.read()\n",
    "noncoding_dna_read = noncoding_dna.read()\n",
    "print(\"Original genomic_dna file contents: \" + genomic_dna)\n",
    "print(\"Coding DNA file contents: \" + coding_dna_read)\n",
    "print(\"Noncoding DNA file contents: \" + noncoding_dna_read)\n",
    "print(\"\\n\")\n",
    "my_file.close()"
   ]
  },
  {
   "cell_type": "code",
   "execution_count": 14,
   "metadata": {},
   "outputs": [
    {
     "name": "stdout",
     "output_type": "stream",
     "text": [
      "sequences.fasta contents: \n",
      ">ABC123\n",
      "ATCGTACGATCGATCGATCGCTAGACGTATCG\n",
      ">DEF456\n",
      "ACTGATCGACGATCGATCGATCACGACT\n",
      ">HIJ789\n",
      "ACTGACACTGTACTGTACATGTG\n",
      "\n"
     ]
    }
   ],
   "source": [
    "#Writing a FASTA file\n",
    "fasta_file = open(\"sequences.fasta\", \"w\")\n",
    "ABC123 = \"ATCGTACGATCGATCGATCGCTAGACGTATCG\\n\"\n",
    "DEF456 = \"actgatcgacgatcgatcgatcacgact\\n\"\n",
    "HIJ789 = \"ACTGAC-ACTGT--ACTGTA----CATGTG\\n\"\n",
    "HIJ789_edited = HIJ789.replace(\"-\", \"\")\n",
    "fasta_file.write(\">ABC123\\n\")\n",
    "fasta_file.write(ABC123)\n",
    "fasta_file.write(\">DEF456\\n\")\n",
    "fasta_file.write(DEF456.upper())\n",
    "fasta_file.write(\">HIJ789\\n\")\n",
    "fasta_file.write(HIJ789_edited)\n",
    "fasta_file.close()\n",
    "fasta_file = open(\"sequences.fasta\", \"r\")\n",
    "fasta_file_read = fasta_file.read()\n",
    "print(\"sequences.fasta contents: \\n\" + fasta_file_read)"
   ]
  },
  {
   "cell_type": "code",
   "execution_count": 15,
   "metadata": {},
   "outputs": [
    {
     "name": "stdout",
     "output_type": "stream",
     "text": [
      "ABC123_file:\n",
      ">ABC123\n",
      "ATCGTACGATCGATCGATCGCTAGACGTATCG\n",
      "DEF456_file:\n",
      ">DEF456\n",
      "ACTGATCGACGATCGATCGATCACGACT\n",
      "HIJ789_file:\n",
      ">HIJ789\n",
      "ACTGACACTGTACTGTACATGTG\n"
     ]
    }
   ],
   "source": [
    "ABC123 = \"ATCGTACGATCGATCGATCGCTAGACGTATCG\"\n",
    "DEF456 = \"actgatcgacgatcgatcgatcacgact\"\n",
    "HIJ789 = \"ACTGAC-ACTGT--ACTGTA----CATGTG\"\n",
    "HIJ789_edited = HIJ789.replace(\"-\", \"\")\n",
    "ABC123_file = open(\"ABC123\" + \".fasta\", \"w\")\n",
    "DEF456_file = open(\"DEF456\" + \".fasta\", \"w\")\n",
    "HIJ789_file = open(\"HIJ789\" + \".fasta\", \"w\")\n",
    "ABC123_file.write(\">ABC123\\n\" + ABC123)\n",
    "DEF456_file.write(\">DEF456\\n\" + DEF456)\n",
    "HIJ789_file.write(\">HIJ789\\n\" + HIJ789_edited)\n",
    "ABC123_file.close()\n",
    "DEF456_file.close()\n",
    "HIJ789_file.close()\n",
    "ABC123_file = open(\"ABC123\" + \".fasta\", \"r\")\n",
    "ABC123_file_read = ABC123_file.read()\n",
    "DEF456_file = open(\"DEF456\" + \".fasta\", \"r\")\n",
    "DEF456_file_read = DEF456_file.read()\n",
    "HIJ789_file = open(\"HIJ789\" + \".fasta\", \"r\")\n",
    "HIJ789_file_read = HIJ789_file.read()\n",
    "print(\"ABC123_file:\\n\" + ABC123_file_read)\n",
    "print(\"DEF456_file:\\n\" + DEF456_file_read.upper())\n",
    "print(\"HIJ789_file:\\n\" + HIJ789_file_read)"
   ]
  }
 ],
 "metadata": {
  "kernelspec": {
   "display_name": "Python 3",
   "language": "python",
   "name": "python3"
  },
  "language_info": {
   "codemirror_mode": {
    "name": "ipython",
    "version": 3
   },
   "file_extension": ".py",
   "mimetype": "text/x-python",
   "name": "python",
   "nbconvert_exporter": "python",
   "pygments_lexer": "ipython3",
   "version": "3.6.1"
  }
 },
 "nbformat": 4,
 "nbformat_minor": 2
}
